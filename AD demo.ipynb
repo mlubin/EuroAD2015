{
 "cells": [
  {
   "cell_type": "markdown",
   "metadata": {},
   "source": [
    "# Useful Julia concepts for automatic differentiation"
   ]
  },
  {
   "cell_type": "code",
   "execution_count": 1,
   "metadata": {
    "collapsed": false
   },
   "outputs": [],
   "source": [
    "importall Base # allows us to extend the built-in definitions of operations\n",
    "# define dual number type\n",
    "immutable Dual{T} <: Number\n",
    "    re::T\n",
    "    ϵ::T\n",
    "end\n",
    "real(z::Dual) = z.re\n",
    "epsilon(z::Dual) = z.ϵ;"
   ]
  },
  {
   "cell_type": "code",
   "execution_count": 2,
   "metadata": {
    "collapsed": false
   },
   "outputs": [
    {
     "data": {
      "text/plain": [
       "Dual{Float64}(2.0,1.0)"
      ]
     },
     "execution_count": 2,
     "metadata": {},
     "output_type": "execute_result"
    }
   ],
   "source": [
    "d = Dual(2.0,1.0)"
   ]
  },
  {
   "cell_type": "code",
   "execution_count": 3,
   "metadata": {
    "collapsed": false
   },
   "outputs": [
    {
     "data": {
      "text/plain": [
       "2.0"
      ]
     },
     "execution_count": 3,
     "metadata": {},
     "output_type": "execute_result"
    }
   ],
   "source": [
    "real(d)"
   ]
  },
  {
   "cell_type": "code",
   "execution_count": 4,
   "metadata": {
    "collapsed": false
   },
   "outputs": [
    {
     "data": {
      "text/plain": [
       "1.0"
      ]
     },
     "execution_count": 4,
     "metadata": {},
     "output_type": "execute_result"
    }
   ],
   "source": [
    "epsilon(d)"
   ]
  },
  {
   "cell_type": "code",
   "execution_count": 5,
   "metadata": {
    "collapsed": false
   },
   "outputs": [],
   "source": [
    "# Basic operations\n",
    "(+)(x::Dual,y::Dual) = Dual(real(x)+real(y),epsilon(x)+epsilon(y))\n",
    "(-)(x::Dual,y::Dual) = Dual(real(x)-real(y),epsilon(x)-epsilon(y))\n",
    "(*)(x::Dual,y::Dual) = Dual(real(x)*real(y), real(x)*epsilon(y)+real(y)*epsilon(x))\n",
    "(/)(x::Dual,y::Dual) = Dual(real(x)/real(y), (epsilon(x)*real(y)-real(x)*epsilon(y))/(real(y)*real(y)))\n",
    "abs(x::Dual) = Dual(abs(real(x)),epsilon(x)*sign(real(x)))\n",
    "sin(x::Dual) = Dual(sin(real(x)),epsilon(x)*cos(real(x)));"
   ]
  },
  {
   "cell_type": "code",
   "execution_count": 6,
   "metadata": {
    "collapsed": false
   },
   "outputs": [
    {
     "data": {
      "text/plain": [
       "Dual{Float64}(6.0,13.0)"
      ]
     },
     "execution_count": 6,
     "metadata": {},
     "output_type": "execute_result"
    }
   ],
   "source": [
    "Dual(2.0,1.0)*Dual(3.0,5.0)"
   ]
  },
  {
   "cell_type": "code",
   "execution_count": 7,
   "metadata": {
    "collapsed": false
   },
   "outputs": [],
   "source": [
    "# glue code\n",
    "promote_rule{S<:Real,T<:Real}(::Type{Dual{S}},::Type{T}) = Dual{promote_type(T,S)}\n",
    "convert{T<:Real}(::Type{Dual{T}},x::Real) = Dual(convert(T,x),zero(T));"
   ]
  },
  {
   "cell_type": "code",
   "execution_count": 8,
   "metadata": {
    "collapsed": false
   },
   "outputs": [
    {
     "data": {
      "text/plain": [
       "Dual{Float64}(2.0,4.0)"
      ]
     },
     "execution_count": 8,
     "metadata": {},
     "output_type": "execute_result"
    }
   ],
   "source": [
    "Dual(1.0,2.0)*2.0"
   ]
  },
  {
   "cell_type": "code",
   "execution_count": 9,
   "metadata": {
    "collapsed": false
   },
   "outputs": [
    {
     "data": {
      "text/plain": [
       "Dual{Float64}(3.0,6.0)"
      ]
     },
     "execution_count": 9,
     "metadata": {},
     "output_type": "execute_result"
    }
   ],
   "source": [
    "3*Dual(1.0,2.0)"
   ]
  },
  {
   "cell_type": "markdown",
   "metadata": {},
   "source": [
    "### We can now perform linear algebra with ``Dual`` types.\n",
    "\n",
    "Let's solve the linear system:\n",
    "$$\n",
    "\\left[\\begin{array}{cc} 1 & 0 \\\\ 0 & 1\\end{array}\\right] \\left[\\begin{array}{c} x_1 \\\\ x_2 \\end{array}\\right] = \n",
    "\\left[\\begin{array}{c} 1+2\\epsilon \\\\ 2+1\\epsilon \\end{array}\\right]\n",
    "$$"
   ]
  },
  {
   "cell_type": "code",
   "execution_count": 10,
   "metadata": {
    "collapsed": false
   },
   "outputs": [
    {
     "data": {
      "text/plain": [
       "2-element Array{Dual{Float64},1}:\n",
       " Dual{Float64}(1.0,2.0)\n",
       " Dual{Float64}(2.0,1.0)"
      ]
     },
     "execution_count": 10,
     "metadata": {},
     "output_type": "execute_result"
    }
   ],
   "source": [
    "eye(2)\\[Dual(1.0,2.0),Dual(2.0,1.0)]"
   ]
  },
  {
   "cell_type": "markdown",
   "metadata": {},
   "source": [
    "### User-defined types are fast!"
   ]
  },
  {
   "cell_type": "code",
   "execution_count": 11,
   "metadata": {
    "collapsed": false
   },
   "outputs": [
    {
     "name": "stdout",
     "output_type": "stream",
     "text": [
      "\t.text\n",
      "Filename: int.jl\n",
      "Source line: 19\n",
      "\tpushq\t%rbp\n",
      "\tmovq\t%rsp, %rbp\n",
      "Source line: 19\n",
      "\timulq\t%rsi, %rdi\n",
      "\tmovq\t%rdi, %rax\n",
      "\tpopq\t%rbp\n",
      "\tret\n"
     ]
    }
   ],
   "source": [
    "@code_native 2*3"
   ]
  },
  {
   "cell_type": "code",
   "execution_count": 12,
   "metadata": {
    "collapsed": false,
    "scrolled": true
   },
   "outputs": [
    {
     "name": "stdout",
     "output_type": "stream",
     "text": [
      "\t.text\n",
      "Filename: In[5]\n",
      "Source line: 4\n",
      "\tpushq\t%rbp\n",
      "\tmovq\t%rsp, %rbp\n",
      "Source line: 4\n",
      "\tvmovsd\t(%rsi), %xmm0\n",
      "Source line: 4\n",
      "\tvmulsd\t8(%rdi), %xmm0, %xmm1\n",
      "Source line: 4\n",
      "\tvmovsd\t(%rdi), %xmm2\n",
      "Source line: 4\n",
      "\tvmulsd\t8(%rsi), %xmm2, %xmm3\n",
      "\tvaddsd\t%xmm1, %xmm3, %xmm1\n",
      "\tvmulsd\t%xmm0, %xmm2, %xmm0\n",
      "\tpopq\t%rbp\n",
      "\tret\n"
     ]
    }
   ],
   "source": [
    "@code_native Dual(1.0,2.0)*Dual(2.0,3.0)"
   ]
  },
  {
   "cell_type": "markdown",
   "metadata": {},
   "source": [
    "### Dual numbers interact transparently with user-defined functions."
   ]
  },
  {
   "cell_type": "code",
   "execution_count": 13,
   "metadata": {
    "collapsed": false
   },
   "outputs": [
    {
     "data": {
      "text/plain": [
       "f (generic function with 1 method)"
      ]
     },
     "execution_count": 13,
     "metadata": {},
     "output_type": "execute_result"
    }
   ],
   "source": [
    "f(x) = 2x+3sin(x)"
   ]
  },
  {
   "cell_type": "code",
   "execution_count": 14,
   "metadata": {
    "collapsed": false
   },
   "outputs": [
    {
     "data": {
      "text/plain": [
       "derivative (generic function with 1 method)"
      ]
     },
     "execution_count": 14,
     "metadata": {},
     "output_type": "execute_result"
    }
   ],
   "source": [
    "function derivative(f,x)\n",
    "    y = f(Dual(x,1.0))\n",
    "    return epsilon(y)\n",
    "end"
   ]
  },
  {
   "cell_type": "code",
   "execution_count": 15,
   "metadata": {
    "collapsed": false
   },
   "outputs": [
    {
     "data": {
      "text/plain": [
       "0.0"
      ]
     },
     "execution_count": 15,
     "metadata": {},
     "output_type": "execute_result"
    }
   ],
   "source": [
    "derivative(f, 2.0) - (2+3cos(2.0))"
   ]
  },
  {
   "cell_type": "markdown",
   "metadata": {},
   "source": [
    "Julia compiles a specialized version of ``f`` according to the input type.\n",
    "\n",
    "Compare \n",
    "\n",
    "``@code_native f(1.0)``\n",
    "\n",
    "and\n",
    "\n",
    "``@code_native f(Dual(1.0,1.0))``."
   ]
  },
  {
   "cell_type": "code",
   "execution_count": 16,
   "metadata": {
    "collapsed": false
   },
   "outputs": [
    {
     "name": "stdout",
     "output_type": "stream",
     "text": [
      "\t.text\n",
      "Filename: In[13]\n",
      "Source line: 1\n",
      "\tpushq\t%rbp\n",
      "\tmovq\t%rsp, %rbp\n",
      "\tsubq\t$16, %rsp\n",
      "\tvmovsd\t%xmm0, -8(%rbp)\n",
      "\tmovabsq\t$sin, %rax\n",
      "Source line: 1\n",
      "\tcallq\t*%rax\n",
      "\tvmovsd\t-8(%rbp), %xmm1\n",
      "\tvucomisd\t%xmm0, %xmm0\n",
      "\tjp\tL68\n",
      "L40:\tmovabsq\t$139889244385568, %rax  # imm = 0x7F3A80B83120\n",
      "\tvmulsd\t(%rax), %xmm0, %xmm0\n",
      "\tvaddsd\t%xmm1, %xmm1, %xmm1\n",
      "\tvaddsd\t%xmm0, %xmm1, %xmm0\n",
      "\taddq\t$16, %rsp\n",
      "\tpopq\t%rbp\n",
      "\tret\n",
      "L68:\tvucomisd\t%xmm1, %xmm1\n",
      "\tjp\tL40\n",
      "\tmovabsq\t$jl_domain_exception, %rax\n",
      "\tmovq\t(%rax), %rdi\n",
      "\tmovabsq\t$jl_throw_with_superfluous_argument, %rax\n",
      "\tmovl\t$1, %esi\n",
      "\tcallq\t*%rax\n"
     ]
    }
   ],
   "source": [
    "@code_native f(1.0)"
   ]
  },
  {
   "cell_type": "code",
   "execution_count": 17,
   "metadata": {
    "collapsed": false
   },
   "outputs": [
    {
     "data": {
      "text/plain": [
       "squareroot (generic function with 1 method)"
      ]
     },
     "execution_count": 17,
     "metadata": {},
     "output_type": "execute_result"
    }
   ],
   "source": [
    "function squareroot(x)\n",
    "    z = x # Initial starting point\n",
    "    while abs(z*z - x) > 1e-13\n",
    "        z = z - (z*z-x)/(2z)\n",
    "    end\n",
    "    return z\n",
    "end"
   ]
  },
  {
   "cell_type": "code",
   "execution_count": 18,
   "metadata": {
    "collapsed": false
   },
   "outputs": [
    {
     "data": {
      "text/plain": [
       "3.1622776601683795"
      ]
     },
     "execution_count": 18,
     "metadata": {},
     "output_type": "execute_result"
    }
   ],
   "source": [
    "squareroot(10.0)"
   ]
  },
  {
   "cell_type": "code",
   "execution_count": 19,
   "metadata": {
    "collapsed": false
   },
   "outputs": [],
   "source": [
    "# define comparison with Dual numbers so that control flow works as expected\n",
    "(>)(x::Dual,y::Real) = real(x) > y;"
   ]
  },
  {
   "cell_type": "code",
   "execution_count": 24,
   "metadata": {
    "collapsed": false
   },
   "outputs": [
    {
     "data": {
      "text/plain": [
       "0.15811388300841897"
      ]
     },
     "execution_count": 24,
     "metadata": {},
     "output_type": "execute_result"
    }
   ],
   "source": [
    "derivative(squareroot,10.0)"
   ]
  },
  {
   "cell_type": "code",
   "execution_count": 25,
   "metadata": {
    "collapsed": false
   },
   "outputs": [
    {
     "data": {
      "text/plain": [
       "0.15811388300841897"
      ]
     },
     "execution_count": 25,
     "metadata": {},
     "output_type": "execute_result"
    }
   ],
   "source": [
    "1/(2*sqrt(10))"
   ]
  },
  {
   "cell_type": "code",
   "execution_count": 35,
   "metadata": {
    "collapsed": false
   },
   "outputs": [
    {
     "name": "stdout",
     "output_type": "stream",
     "text": [
      "  "
     ]
    },
    {
     "data": {
      "text/plain": [
       "3.1622776601683795"
      ]
     },
     "execution_count": 35,
     "metadata": {},
     "output_type": "execute_result"
    },
    {
     "name": "stdout",
     "output_type": "stream",
     "text": [
      "0.000003 seconds (5 allocations: 176 bytes)\n"
     ]
    }
   ],
   "source": [
    "@time sqrt(10.0)"
   ]
  },
  {
   "cell_type": "code",
   "execution_count": 36,
   "metadata": {
    "collapsed": false
   },
   "outputs": [
    {
     "name": "stdout",
     "output_type": "stream",
     "text": [
      "  "
     ]
    },
    {
     "data": {
      "text/plain": [
       "3.1622776601683795"
      ]
     },
     "execution_count": 36,
     "metadata": {},
     "output_type": "execute_result"
    },
    {
     "name": "stdout",
     "output_type": "stream",
     "text": [
      "0.000003 seconds (5 allocations: 176 bytes)\n"
     ]
    }
   ],
   "source": [
    "@time squareroot(10.0)"
   ]
  },
  {
   "cell_type": "code",
   "execution_count": 37,
   "metadata": {
    "collapsed": false
   },
   "outputs": [
    {
     "name": "stdout",
     "output_type": "stream",
     "text": [
      "  "
     ]
    },
    {
     "data": {
      "text/plain": [
       "0.15811388300841897"
      ]
     },
     "execution_count": 37,
     "metadata": {},
     "output_type": "execute_result"
    },
    {
     "name": "stdout",
     "output_type": "stream",
     "text": [
      "0.000005 seconds (7 allocations: 240 bytes)\n"
     ]
    }
   ],
   "source": [
    "@time derivative(squareroot,10.0)"
   ]
  },
  {
   "cell_type": "markdown",
   "metadata": {},
   "source": [
    "#### The Julia compiler is able to generate efficient code because it uses *type inference* to decide the types of all computations (if possible)."
   ]
  },
  {
   "cell_type": "code",
   "execution_count": 45,
   "metadata": {
    "collapsed": false
   },
   "outputs": [
    {
     "data": {
      "text/plain": [
       "Float64"
      ]
     },
     "execution_count": 45,
     "metadata": {},
     "output_type": "execute_result"
    }
   ],
   "source": [
    "Base.return_types(squareroot,(Float64,))[1]"
   ]
  },
  {
   "cell_type": "code",
   "execution_count": 46,
   "metadata": {
    "collapsed": false
   },
   "outputs": [
    {
     "data": {
      "text/plain": [
       "Dual{Float64}"
      ]
     },
     "execution_count": 46,
     "metadata": {},
     "output_type": "execute_result"
    }
   ],
   "source": [
    "Base.return_types(squareroot,(Dual{Float64},))[1]"
   ]
  },
  {
   "cell_type": "markdown",
   "metadata": {},
   "source": [
    "## Bulding blocks for reverse mode\n",
    "\n",
    "- Operator overloading\n",
    "- Built-in expression manipulation, metaprogramming\n",
    "- Source code access\n",
    "- Dynamic code generation"
   ]
  },
  {
   "cell_type": "code",
   "execution_count": 47,
   "metadata": {
    "collapsed": false
   },
   "outputs": [
    {
     "data": {
      "text/plain": [
       ":(sin(x) + y)"
      ]
     },
     "execution_count": 47,
     "metadata": {},
     "output_type": "execute_result"
    }
   ],
   "source": [
    "expr = :(sin(x)+y)"
   ]
  },
  {
   "cell_type": "code",
   "execution_count": 48,
   "metadata": {
    "collapsed": false
   },
   "outputs": [
    {
     "name": "stdout",
     "output_type": "stream",
     "text": [
      "Expr \n",
      "  head: Symbol call\n",
      "  args: Array(Any,(3,))\n",
      "    1: Symbol +\n",
      "    2: Expr \n",
      "      head: Symbol call\n",
      "      args: Array(Any,(2,))\n",
      "        1: Symbol sin\n",
      "        2: Symbol x\n",
      "      typ: Any\n",
      "    3: Symbol y\n",
      "  typ: Any\n"
     ]
    }
   ],
   "source": [
    "dump(expr)"
   ]
  },
  {
   "cell_type": "markdown",
   "metadata": {},
   "source": [
    "### Macros are compile-time source transformations\n",
    "\n",
    "Useful for:\n",
    "- Accessing expression graphs without operator overloading\n",
    "- Implementing domain-specific languages"
   ]
  },
  {
   "cell_type": "code",
   "execution_count": 49,
   "metadata": {
    "collapsed": true
   },
   "outputs": [],
   "source": [
    "macro IMeantToSubtract(expr)\n",
    "    expr.args[1] = :-\n",
    "    return esc(expr)\n",
    "end"
   ]
  },
  {
   "cell_type": "code",
   "execution_count": 50,
   "metadata": {
    "collapsed": false
   },
   "outputs": [
    {
     "data": {
      "text/plain": [
       "9"
      ]
     },
     "execution_count": 50,
     "metadata": {},
     "output_type": "execute_result"
    }
   ],
   "source": [
    "@IMeantToSubtract 10+1"
   ]
  },
  {
   "cell_type": "code",
   "execution_count": 51,
   "metadata": {
    "collapsed": false
   },
   "outputs": [
    {
     "data": {
      "text/plain": [
       ":(10 - 1)"
      ]
     },
     "execution_count": 51,
     "metadata": {},
     "output_type": "execute_result"
    }
   ],
   "source": [
    "macroexpand(:(@IMeantToSubtract 10+1))"
   ]
  },
  {
   "cell_type": "markdown",
   "metadata": {},
   "source": [
    "### Access to source code of user-provided functions!"
   ]
  },
  {
   "cell_type": "code",
   "execution_count": 56,
   "metadata": {
    "collapsed": false
   },
   "outputs": [
    {
     "data": {
      "text/plain": [
       ":($(Expr(:lambda, Any[:x], Any[Any[Any[:x,:Any,0],Any[:z,:Any,2]],Any[],0,Any[]], :(begin  # In[17], line 2:\n",
       "        z = x # line 3:\n",
       "        unless (Main.abs)(z * z - x) > 1.0e-13 goto 1\n",
       "        2:  # line 4:\n",
       "        z = z - (z * z - x) / (2z)\n",
       "        3: \n",
       "        unless (top(!))((Main.abs)(z * z - x) > 1.0e-13) goto 2\n",
       "        1: \n",
       "        0:  # line 6:\n",
       "        return z\n",
       "    end))))"
      ]
     },
     "execution_count": 56,
     "metadata": {},
     "output_type": "execute_result"
    }
   ],
   "source": [
    "fdef = Base.uncompressed_ast(methods(squareroot,(Float64,))[1].func.code)"
   ]
  },
  {
   "cell_type": "markdown",
   "metadata": {},
   "source": [
    "### The compiler is a run-time utility (dynamic code generation)"
   ]
  },
  {
   "cell_type": "code",
   "execution_count": 3,
   "metadata": {
    "collapsed": false
   },
   "outputs": [
    {
     "data": {
      "text/plain": [
       "create_function (generic function with 1 method)"
      ]
     },
     "execution_count": 3,
     "metadata": {},
     "output_type": "execute_result"
    }
   ],
   "source": [
    "function create_function(name,expr)\n",
    "    f_expr = quote\n",
    "        function ($name)(x)\n",
    "            return $expr\n",
    "        end\n",
    "    end\n",
    "    eval(f_expr)\n",
    "end;"
   ]
  },
  {
   "cell_type": "code",
   "execution_count": 6,
   "metadata": {
    "collapsed": false
   },
   "outputs": [
    {
     "data": {
      "text/plain": [
       "sqr (generic function with 1 method)"
      ]
     },
     "execution_count": 6,
     "metadata": {},
     "output_type": "execute_result"
    }
   ],
   "source": [
    "create_function(:sqr, :(x*x));"
   ]
  },
  {
   "cell_type": "code",
   "execution_count": 7,
   "metadata": {
    "collapsed": false
   },
   "outputs": [
    {
     "data": {
      "text/plain": [
       "4.0"
      ]
     },
     "execution_count": 7,
     "metadata": {},
     "output_type": "execute_result"
    }
   ],
   "source": [
    "sqr(2.0)"
   ]
  },
  {
   "cell_type": "code",
   "execution_count": 8,
   "metadata": {
    "collapsed": false
   },
   "outputs": [
    {
     "name": "stdout",
     "output_type": "stream",
     "text": [
      "\n",
      "define double @julia_sqr_21786(double) {\n",
      "top:\n",
      "  %1 = fmul double %0, %0\n",
      "  ret double %1\n",
      "}\n"
     ]
    }
   ],
   "source": [
    "@code_llvm sqr(2.0)"
   ]
  }
 ],
 "metadata": {
  "kernelspec": {
   "display_name": "Julia 0.4.0-dev",
   "language": "julia",
   "name": "julia 0.4"
  },
  "language_info": {
   "name": "julia",
   "version": "0.4.0"
  }
 },
 "nbformat": 4,
 "nbformat_minor": 0
}
